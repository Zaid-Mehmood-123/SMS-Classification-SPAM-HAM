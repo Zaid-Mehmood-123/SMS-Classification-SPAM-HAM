{
 "cells": [
  {
   "cell_type": "markdown",
   "id": "e91482c1",
   "metadata": {
    "papermill": {
     "duration": 0.014099,
     "end_time": "2024-11-04T02:47:05.599360",
     "exception": false,
     "start_time": "2024-11-04T02:47:05.585261",
     "status": "completed"
    },
    "tags": []
   },
   "source": [
    "# IMPORT LIBRARIES"
   ]
  },
  {
   "cell_type": "code",
   "execution_count": 46,
   "id": "d5d1a980",
   "metadata": {
    "execution": {
     "iopub.execute_input": "2024-11-04T02:47:05.629195Z",
     "iopub.status.busy": "2024-11-04T02:47:05.628585Z",
     "iopub.status.idle": "2024-11-04T02:47:10.197740Z",
     "shell.execute_reply": "2024-11-04T02:47:10.196489Z"
    },
    "papermill": {
     "duration": 4.588253,
     "end_time": "2024-11-04T02:47:10.200805",
     "exception": false,
     "start_time": "2024-11-04T02:47:05.612552",
     "status": "completed"
    },
    "tags": []
   },
   "outputs": [],
   "source": [
    "import re\n",
    "import nltk\n",
    "import warnings\n",
    "import numpy as np \n",
    "import pandas as pd\n",
    "import seaborn as sns\n",
    "import matplotlib.pyplot as plt\n",
    "from nltk.corpus import stopwords\n",
    "from sklearn.pipeline import Pipeline    \n",
    "from nltk.stem import WordNetLemmatizer\n",
    "from nltk.stem.porter import PorterStemmer\n",
    "from sklearn.naive_bayes import MultinomialNB\n",
    "from sklearn.linear_model import LogisticRegression\n",
    "from sklearn.ensemble import RandomForestClassifier\n",
    "from sklearn.neighbors import KNeighborsClassifier\n",
    "from sklearn.model_selection import cross_val_score\n",
    "from sklearn.model_selection import train_test_split\n",
    "from sklearn.feature_extraction.text import TfidfVectorizer\n",
    "from sklearn.metrics import precision_score, recall_score, classification_report, accuracy_score, f1_score\n",
    "\n",
    "warnings.filterwarnings('ignore')"
   ]
  },
  {
   "cell_type": "markdown",
   "id": "fde9db9b",
   "metadata": {
    "papermill": {
     "duration": 0.01371,
     "end_time": "2024-11-04T02:47:10.227887",
     "exception": false,
     "start_time": "2024-11-04T02:47:10.214177",
     "status": "completed"
    },
    "tags": []
   },
   "source": [
    "# loading data"
   ]
  },
  {
   "cell_type": "code",
   "execution_count": 47,
   "id": "020a5c4e",
   "metadata": {
    "execution": {
     "iopub.execute_input": "2024-11-04T02:47:10.256524Z",
     "iopub.status.busy": "2024-11-04T02:47:10.255867Z",
     "iopub.status.idle": "2024-11-04T02:47:10.331144Z",
     "shell.execute_reply": "2024-11-04T02:47:10.329874Z"
    },
    "papermill": {
     "duration": 0.092634,
     "end_time": "2024-11-04T02:47:10.333960",
     "exception": false,
     "start_time": "2024-11-04T02:47:10.241326",
     "status": "completed"
    },
    "tags": []
   },
   "outputs": [
    {
     "data": {
      "text/html": [
       "<div>\n",
       "<style scoped>\n",
       "    .dataframe tbody tr th:only-of-type {\n",
       "        vertical-align: middle;\n",
       "    }\n",
       "\n",
       "    .dataframe tbody tr th {\n",
       "        vertical-align: top;\n",
       "    }\n",
       "\n",
       "    .dataframe thead th {\n",
       "        text-align: right;\n",
       "    }\n",
       "</style>\n",
       "<table border=\"1\" class=\"dataframe\">\n",
       "  <thead>\n",
       "    <tr style=\"text-align: right;\">\n",
       "      <th></th>\n",
       "      <th>v1</th>\n",
       "      <th>v2</th>\n",
       "      <th>Unnamed: 2</th>\n",
       "      <th>Unnamed: 3</th>\n",
       "      <th>Unnamed: 4</th>\n",
       "    </tr>\n",
       "  </thead>\n",
       "  <tbody>\n",
       "    <tr>\n",
       "      <th>0</th>\n",
       "      <td>ham</td>\n",
       "      <td>Go until jurong point, crazy.. Available only ...</td>\n",
       "      <td>NaN</td>\n",
       "      <td>NaN</td>\n",
       "      <td>NaN</td>\n",
       "    </tr>\n",
       "    <tr>\n",
       "      <th>1</th>\n",
       "      <td>ham</td>\n",
       "      <td>Ok lar... Joking wif u oni...</td>\n",
       "      <td>NaN</td>\n",
       "      <td>NaN</td>\n",
       "      <td>NaN</td>\n",
       "    </tr>\n",
       "    <tr>\n",
       "      <th>2</th>\n",
       "      <td>spam</td>\n",
       "      <td>Free entry in 2 a wkly comp to win FA Cup fina...</td>\n",
       "      <td>NaN</td>\n",
       "      <td>NaN</td>\n",
       "      <td>NaN</td>\n",
       "    </tr>\n",
       "    <tr>\n",
       "      <th>3</th>\n",
       "      <td>ham</td>\n",
       "      <td>U dun say so early hor... U c already then say...</td>\n",
       "      <td>NaN</td>\n",
       "      <td>NaN</td>\n",
       "      <td>NaN</td>\n",
       "    </tr>\n",
       "    <tr>\n",
       "      <th>4</th>\n",
       "      <td>ham</td>\n",
       "      <td>Nah I don't think he goes to usf, he lives aro...</td>\n",
       "      <td>NaN</td>\n",
       "      <td>NaN</td>\n",
       "      <td>NaN</td>\n",
       "    </tr>\n",
       "  </tbody>\n",
       "</table>\n",
       "</div>"
      ],
      "text/plain": [
       "     v1                                                 v2 Unnamed: 2  \\\n",
       "0   ham  Go until jurong point, crazy.. Available only ...        NaN   \n",
       "1   ham                      Ok lar... Joking wif u oni...        NaN   \n",
       "2  spam  Free entry in 2 a wkly comp to win FA Cup fina...        NaN   \n",
       "3   ham  U dun say so early hor... U c already then say...        NaN   \n",
       "4   ham  Nah I don't think he goes to usf, he lives aro...        NaN   \n",
       "\n",
       "  Unnamed: 3 Unnamed: 4  \n",
       "0        NaN        NaN  \n",
       "1        NaN        NaN  \n",
       "2        NaN        NaN  \n",
       "3        NaN        NaN  \n",
       "4        NaN        NaN  "
      ]
     },
     "execution_count": 47,
     "metadata": {},
     "output_type": "execute_result"
    }
   ],
   "source": [
    "df = pd.read_csv(\"spam.csv\", encoding='latin1')\n",
    "df.head()"
   ]
  },
  {
   "cell_type": "code",
   "execution_count": 48,
   "id": "8d8c149d",
   "metadata": {
    "execution": {
     "iopub.execute_input": "2024-11-04T02:47:10.365402Z",
     "iopub.status.busy": "2024-11-04T02:47:10.364922Z",
     "iopub.status.idle": "2024-11-04T02:47:10.385071Z",
     "shell.execute_reply": "2024-11-04T02:47:10.383760Z"
    },
    "papermill": {
     "duration": 0.040086,
     "end_time": "2024-11-04T02:47:10.387708",
     "exception": false,
     "start_time": "2024-11-04T02:47:10.347622",
     "status": "completed"
    },
    "tags": []
   },
   "outputs": [
    {
     "data": {
      "text/html": [
       "<div>\n",
       "<style scoped>\n",
       "    .dataframe tbody tr th:only-of-type {\n",
       "        vertical-align: middle;\n",
       "    }\n",
       "\n",
       "    .dataframe tbody tr th {\n",
       "        vertical-align: top;\n",
       "    }\n",
       "\n",
       "    .dataframe thead th {\n",
       "        text-align: right;\n",
       "    }\n",
       "</style>\n",
       "<table border=\"1\" class=\"dataframe\">\n",
       "  <thead>\n",
       "    <tr style=\"text-align: right;\">\n",
       "      <th></th>\n",
       "      <th>Target</th>\n",
       "      <th>Text</th>\n",
       "    </tr>\n",
       "  </thead>\n",
       "  <tbody>\n",
       "    <tr>\n",
       "      <th>0</th>\n",
       "      <td>ham</td>\n",
       "      <td>Go until jurong point, crazy.. Available only ...</td>\n",
       "    </tr>\n",
       "    <tr>\n",
       "      <th>1</th>\n",
       "      <td>ham</td>\n",
       "      <td>Ok lar... Joking wif u oni...</td>\n",
       "    </tr>\n",
       "    <tr>\n",
       "      <th>2</th>\n",
       "      <td>spam</td>\n",
       "      <td>Free entry in 2 a wkly comp to win FA Cup fina...</td>\n",
       "    </tr>\n",
       "    <tr>\n",
       "      <th>3</th>\n",
       "      <td>ham</td>\n",
       "      <td>U dun say so early hor... U c already then say...</td>\n",
       "    </tr>\n",
       "    <tr>\n",
       "      <th>4</th>\n",
       "      <td>ham</td>\n",
       "      <td>Nah I don't think he goes to usf, he lives aro...</td>\n",
       "    </tr>\n",
       "  </tbody>\n",
       "</table>\n",
       "</div>"
      ],
      "text/plain": [
       "  Target                                               Text\n",
       "0    ham  Go until jurong point, crazy.. Available only ...\n",
       "1    ham                      Ok lar... Joking wif u oni...\n",
       "2   spam  Free entry in 2 a wkly comp to win FA Cup fina...\n",
       "3    ham  U dun say so early hor... U c already then say...\n",
       "4    ham  Nah I don't think he goes to usf, he lives aro..."
      ]
     },
     "execution_count": 48,
     "metadata": {},
     "output_type": "execute_result"
    }
   ],
   "source": [
    "df = df.drop(columns = [\"Unnamed: 2\",\"Unnamed: 3\",\"Unnamed: 4\"], axis=1)\n",
    "df.rename(columns = {\"v1\":\"Target\", \"v2\":\"Text\"}, inplace = True)\n",
    "df.head()"
   ]
  },
  {
   "cell_type": "code",
   "execution_count": 49,
   "id": "2f961a72",
   "metadata": {
    "execution": {
     "iopub.execute_input": "2024-11-04T02:47:10.417506Z",
     "iopub.status.busy": "2024-11-04T02:47:10.416383Z",
     "iopub.status.idle": "2024-11-04T02:47:10.423963Z",
     "shell.execute_reply": "2024-11-04T02:47:10.422795Z"
    },
    "papermill": {
     "duration": 0.025124,
     "end_time": "2024-11-04T02:47:10.426524",
     "exception": false,
     "start_time": "2024-11-04T02:47:10.401400",
     "status": "completed"
    },
    "tags": []
   },
   "outputs": [
    {
     "data": {
      "text/plain": [
       "(5572, 2)"
      ]
     },
     "execution_count": 49,
     "metadata": {},
     "output_type": "execute_result"
    }
   ],
   "source": [
    "df.shape"
   ]
  },
  {
   "cell_type": "code",
   "execution_count": 50,
   "id": "1237cbba",
   "metadata": {
    "execution": {
     "iopub.execute_input": "2024-11-04T02:47:10.456135Z",
     "iopub.status.busy": "2024-11-04T02:47:10.455678Z",
     "iopub.status.idle": "2024-11-04T02:47:10.482366Z",
     "shell.execute_reply": "2024-11-04T02:47:10.480971Z"
    },
    "papermill": {
     "duration": 0.045073,
     "end_time": "2024-11-04T02:47:10.485309",
     "exception": false,
     "start_time": "2024-11-04T02:47:10.440236",
     "status": "completed"
    },
    "tags": []
   },
   "outputs": [
    {
     "name": "stdout",
     "output_type": "stream",
     "text": [
      "<class 'pandas.core.frame.DataFrame'>\n",
      "RangeIndex: 5572 entries, 0 to 5571\n",
      "Data columns (total 2 columns):\n",
      " #   Column  Non-Null Count  Dtype \n",
      "---  ------  --------------  ----- \n",
      " 0   Target  5572 non-null   object\n",
      " 1   Text    5572 non-null   object\n",
      "dtypes: object(2)\n",
      "memory usage: 87.2+ KB\n"
     ]
    }
   ],
   "source": [
    "df.info()"
   ]
  },
  {
   "cell_type": "code",
   "execution_count": 51,
   "id": "76d7c28f",
   "metadata": {
    "execution": {
     "iopub.execute_input": "2024-11-04T02:47:10.515689Z",
     "iopub.status.busy": "2024-11-04T02:47:10.515236Z",
     "iopub.status.idle": "2024-11-04T02:47:10.526850Z",
     "shell.execute_reply": "2024-11-04T02:47:10.525478Z"
    },
    "papermill": {
     "duration": 0.030211,
     "end_time": "2024-11-04T02:47:10.529680",
     "exception": false,
     "start_time": "2024-11-04T02:47:10.499469",
     "status": "completed"
    },
    "tags": []
   },
   "outputs": [
    {
     "data": {
      "text/plain": [
       "Target    0\n",
       "Text      0\n",
       "dtype: int64"
      ]
     },
     "execution_count": 51,
     "metadata": {},
     "output_type": "execute_result"
    }
   ],
   "source": [
    "df.isnull().sum()"
   ]
  },
  {
   "cell_type": "code",
   "execution_count": 52,
   "id": "83ad1881",
   "metadata": {
    "execution": {
     "iopub.execute_input": "2024-11-04T02:47:10.559534Z",
     "iopub.status.busy": "2024-11-04T02:47:10.559094Z",
     "iopub.status.idle": "2024-11-04T02:47:10.571213Z",
     "shell.execute_reply": "2024-11-04T02:47:10.569724Z"
    },
    "papermill": {
     "duration": 0.030705,
     "end_time": "2024-11-04T02:47:10.574351",
     "exception": false,
     "start_time": "2024-11-04T02:47:10.543646",
     "status": "completed"
    },
    "tags": []
   },
   "outputs": [
    {
     "data": {
      "text/plain": [
       "403"
      ]
     },
     "execution_count": 52,
     "metadata": {},
     "output_type": "execute_result"
    }
   ],
   "source": [
    "df.duplicated().sum()"
   ]
  },
  {
   "cell_type": "code",
   "execution_count": 53,
   "id": "5f928c39",
   "metadata": {
    "execution": {
     "iopub.execute_input": "2024-11-04T02:47:10.605068Z",
     "iopub.status.busy": "2024-11-04T02:47:10.604571Z",
     "iopub.status.idle": "2024-11-04T02:47:10.617315Z",
     "shell.execute_reply": "2024-11-04T02:47:10.615976Z"
    },
    "papermill": {
     "duration": 0.032492,
     "end_time": "2024-11-04T02:47:10.621496",
     "exception": false,
     "start_time": "2024-11-04T02:47:10.589004",
     "status": "completed"
    },
    "tags": []
   },
   "outputs": [],
   "source": [
    "df.drop_duplicates(inplace=True)"
   ]
  },
  {
   "cell_type": "code",
   "execution_count": 54,
   "id": "3beb2f76",
   "metadata": {
    "execution": {
     "iopub.execute_input": "2024-11-04T02:47:10.652472Z",
     "iopub.status.busy": "2024-11-04T02:47:10.651987Z",
     "iopub.status.idle": "2024-11-04T02:47:10.898486Z",
     "shell.execute_reply": "2024-11-04T02:47:10.897201Z"
    },
    "papermill": {
     "duration": 0.264793,
     "end_time": "2024-11-04T02:47:10.901255",
     "exception": false,
     "start_time": "2024-11-04T02:47:10.636462",
     "status": "completed"
    },
    "tags": []
   },
   "outputs": [
    {
     "data": {
      "image/png": "[encoded data removed]",
      "text/plain": [
       "<Figure size 800x400 with 1 Axes>"
      ]
     },
     "metadata": {},
     "output_type": "display_data"
    }
   ],
   "source": [
    "plt.figure(figsize=(8,4))\n",
    "sns.countplot(data=df, x='Target', palette='Greens')\n",
    "plt.xlabel(\"Target\")\n",
    "plt.ylabel(\"SMS\")\n",
    "plt.show()"
   ]
  },
  {
   "cell_type": "markdown",
   "id": "04ab5aed",
   "metadata": {
    "papermill": {
     "duration": 0.015329,
     "end_time": "2024-11-04T02:47:10.931596",
     "exception": false,
     "start_time": "2024-11-04T02:47:10.916267",
     "status": "completed"
    },
    "tags": []
   },
   "source": [
    "`Note` - Data Is Imbalanced"
   ]
  },
  {
   "cell_type": "markdown",
   "id": "26dc0387",
   "metadata": {
    "papermill": {
     "duration": 0.014251,
     "end_time": "2024-11-04T02:47:10.960876",
     "exception": false,
     "start_time": "2024-11-04T02:47:10.946625",
     "status": "completed"
    },
    "tags": []
   },
   "source": [
    "## FEATURE ENGINEERING"
   ]
  },
  {
   "cell_type": "code",
   "execution_count": 55,
   "id": "0238ad31",
   "metadata": {
    "execution": {
     "iopub.execute_input": "2024-11-04T02:47:10.992423Z",
     "iopub.status.busy": "2024-11-04T02:47:10.991921Z",
     "iopub.status.idle": "2024-11-04T02:47:13.231577Z",
     "shell.execute_reply": "2024-11-04T02:47:13.230389Z"
    },
    "papermill": {
     "duration": 2.259146,
     "end_time": "2024-11-04T02:47:13.234577",
     "exception": false,
     "start_time": "2024-11-04T02:47:10.975431",
     "status": "completed"
    },
    "tags": []
   },
   "outputs": [],
   "source": [
    "df['No of Chars'] = df['Text'].apply(len)\n",
    "df['No of Sentences'] = df['Text'].apply(lambda corpus: nltk.sent_tokenize(corpus)).apply(len)\n",
    "df['No of Words'] = df['Text'].apply(lambda document: nltk.word_tokenize(document)).apply(len)"
   ]
  },
  {
   "cell_type": "code",
   "execution_count": 56,
   "id": "2e21d73f",
   "metadata": {
    "execution": {
     "iopub.execute_input": "2024-11-04T02:47:13.265945Z",
     "iopub.status.busy": "2024-11-04T02:47:13.265494Z",
     "iopub.status.idle": "2024-11-04T02:47:13.296230Z",
     "shell.execute_reply": "2024-11-04T02:47:13.294946Z"
    },
    "papermill": {
     "duration": 0.049479,
     "end_time": "2024-11-04T02:47:13.299062",
     "exception": false,
     "start_time": "2024-11-04T02:47:13.249583",
     "status": "completed"
    },
    "tags": []
   },
   "outputs": [
    {
     "data": {
      "text/html": [
       "<div>\n",
       "<style scoped>\n",
       "    .dataframe tbody tr th:only-of-type {\n",
       "        vertical-align: middle;\n",
       "    }\n",
       "\n",
       "    .dataframe tbody tr th {\n",
       "        vertical-align: top;\n",
       "    }\n",
       "\n",
       "    .dataframe thead th {\n",
       "        text-align: right;\n",
       "    }\n",
       "</style>\n",
       "<table border=\"1\" class=\"dataframe\">\n",
       "  <thead>\n",
       "    <tr style=\"text-align: right;\">\n",
       "      <th></th>\n",
       "      <th>count</th>\n",
       "      <th>mean</th>\n",
       "      <th>std</th>\n",
       "      <th>min</th>\n",
       "      <th>25%</th>\n",
       "      <th>50%</th>\n",
       "      <th>75%</th>\n",
       "      <th>max</th>\n",
       "    </tr>\n",
       "  </thead>\n",
       "  <tbody>\n",
       "    <tr>\n",
       "      <th>No of Chars</th>\n",
       "      <td>5169.0</td>\n",
       "      <td>78.977945</td>\n",
       "      <td>58.236293</td>\n",
       "      <td>2.0</td>\n",
       "      <td>36.0</td>\n",
       "      <td>60.0</td>\n",
       "      <td>117.0</td>\n",
       "      <td>910.0</td>\n",
       "    </tr>\n",
       "    <tr>\n",
       "      <th>No of Sentences</th>\n",
       "      <td>5169.0</td>\n",
       "      <td>1.965564</td>\n",
       "      <td>1.448541</td>\n",
       "      <td>1.0</td>\n",
       "      <td>1.0</td>\n",
       "      <td>1.0</td>\n",
       "      <td>2.0</td>\n",
       "      <td>38.0</td>\n",
       "    </tr>\n",
       "    <tr>\n",
       "      <th>No of Words</th>\n",
       "      <td>5169.0</td>\n",
       "      <td>18.455794</td>\n",
       "      <td>13.324758</td>\n",
       "      <td>1.0</td>\n",
       "      <td>9.0</td>\n",
       "      <td>15.0</td>\n",
       "      <td>26.0</td>\n",
       "      <td>220.0</td>\n",
       "    </tr>\n",
       "  </tbody>\n",
       "</table>\n",
       "</div>"
      ],
      "text/plain": [
       "                  count       mean        std  min   25%   50%    75%    max\n",
       "No of Chars      5169.0  78.977945  58.236293  2.0  36.0  60.0  117.0  910.0\n",
       "No of Sentences  5169.0   1.965564   1.448541  1.0   1.0   1.0    2.0   38.0\n",
       "No of Words      5169.0  18.455794  13.324758  1.0   9.0  15.0   26.0  220.0"
      ]
     },
     "execution_count": 56,
     "metadata": {},
     "output_type": "execute_result"
    }
   ],
   "source": [
    "df.describe().T"
   ]
  },
  {
   "cell_type": "markdown",
   "id": "60ceec9b",
   "metadata": {
    "papermill": {
     "duration": 0.014291,
     "end_time": "2024-11-04T02:47:13.328091",
     "exception": false,
     "start_time": "2024-11-04T02:47:13.313800",
     "status": "completed"
    },
    "tags": []
   },
   "source": [
    "## HANDLING OUTLIERS"
   ]
  },
  {
   "cell_type": "code",
   "execution_count": 57,
   "id": "05a4b5db",
   "metadata": {
    "execution": {
     "iopub.execute_input": "2024-11-04T02:47:13.359193Z",
     "iopub.status.busy": "2024-11-04T02:47:13.358763Z",
     "iopub.status.idle": "2024-11-04T02:47:13.757321Z",
     "shell.execute_reply": "2024-11-04T02:47:13.755884Z"
    },
    "papermill": {
     "duration": 0.418411,
     "end_time": "2024-11-04T02:47:13.761052",
     "exception": false,
     "start_time": "2024-11-04T02:47:13.342641",
     "status": "completed"
    },
    "tags": []
   },
   "outputs": [
    {
     "data": {
      "image/png": "[encoded data removed]",
      "text/plain": [
       "<Figure size 1500x500 with 1 Axes>"
      ]
     },
     "metadata": {},
     "output_type": "display_data"
    }
   ],
   "source": [
    "melted_df = df.melt(id_vars='Target', value_vars=['No of Sentences', 'No of Chars', 'No of Words'], var_name='Feature', value_name='Value')\n",
    "\n",
    "plt.figure(figsize=(15,5))\n",
    "sns.boxenplot(x='Feature', y='Value', data=melted_df, hue='Target')\n",
    "plt.show()"
   ]
  },
  {
   "cell_type": "markdown",
   "id": "22718049",
   "metadata": {
    "papermill": {
     "duration": 0.015063,
     "end_time": "2024-11-04T02:47:13.793480",
     "exception": false,
     "start_time": "2024-11-04T02:47:13.778417",
     "status": "completed"
    },
    "tags": []
   },
   "source": [
    "`Note`: From the above plot, we can clearly see their are few outliers, all in the class ham."
   ]
  },
  {
   "cell_type": "code",
   "execution_count": 58,
   "id": "74652f7a",
   "metadata": {
    "execution": {
     "iopub.execute_input": "2024-11-04T02:47:13.827086Z",
     "iopub.status.busy": "2024-11-04T02:47:13.826600Z",
     "iopub.status.idle": "2024-11-04T02:47:13.841197Z",
     "shell.execute_reply": "2024-11-04T02:47:13.839939Z"
    },
    "papermill": {
     "duration": 0.034586,
     "end_time": "2024-11-04T02:47:13.843885",
     "exception": false,
     "start_time": "2024-11-04T02:47:13.809299",
     "status": "completed"
    },
    "tags": []
   },
   "outputs": [
    {
     "data": {
      "text/plain": [
       "Index([  53,  126,  154,  380,  424,  472,  550,  710,  837,  881, 1084, 1359,\n",
       "       1384, 1512, 1578, 1585, 1826, 1862, 2009, 2011, 2064, 2089, 2133, 2157,\n",
       "       2355, 2369, 2379, 2407, 2433, 2492, 2502, 2544, 2614, 2855, 2944, 3015,\n",
       "       3039, 3058, 3105, 3225, 3304, 3349, 3452, 3516, 3564, 3730, 3736, 3777,\n",
       "       3820, 3878, 4055, 4079, 4289, 4310, 4397, 4407, 4450, 4800, 4865, 4903,\n",
       "       5003, 5082, 5209, 5451, 5515, 5557],\n",
       "      dtype='int64')"
      ]
     },
     "execution_count": 58,
     "metadata": {},
     "output_type": "execute_result"
    }
   ],
   "source": [
    "column_name = 'No of Chars'\n",
    "\n",
    "Q1 = df[column_name].quantile(0.25)\n",
    "Q3 = df[column_name].quantile(0.75)\n",
    "IQR = Q3 - Q1\n",
    "\n",
    "lower_bound = Q1 - 1.5 * IQR\n",
    "upper_bound = Q3 + 1.5 * IQR\n",
    "\n",
    "outliers = df[(df[column_name] < lower_bound) | (df[column_name] > upper_bound)]\n",
    "outliers.index"
   ]
  },
  {
   "cell_type": "code",
   "execution_count": 59,
   "id": "fd08bca0",
   "metadata": {
    "execution": {
     "iopub.execute_input": "2024-11-04T02:47:13.877627Z",
     "iopub.status.busy": "2024-11-04T02:47:13.876302Z",
     "iopub.status.idle": "2024-11-04T02:47:13.883912Z",
     "shell.execute_reply": "2024-11-04T02:47:13.882710Z"
    },
    "papermill": {
     "duration": 0.027431,
     "end_time": "2024-11-04T02:47:13.886842",
     "exception": false,
     "start_time": "2024-11-04T02:47:13.859411",
     "status": "completed"
    },
    "tags": []
   },
   "outputs": [],
   "source": [
    "df.drop(outliers.index, axis=0, inplace=True)"
   ]
  },
  {
   "cell_type": "code",
   "execution_count": 60,
   "id": "5baee4e0",
   "metadata": {
    "execution": {
     "iopub.execute_input": "2024-11-04T02:47:13.920270Z",
     "iopub.status.busy": "2024-11-04T02:47:13.919790Z",
     "iopub.status.idle": "2024-11-04T02:47:13.927005Z",
     "shell.execute_reply": "2024-11-04T02:47:13.925967Z"
    },
    "papermill": {
     "duration": 0.026956,
     "end_time": "2024-11-04T02:47:13.929579",
     "exception": false,
     "start_time": "2024-11-04T02:47:13.902623",
     "status": "completed"
    },
    "tags": []
   },
   "outputs": [
    {
     "data": {
      "text/plain": [
       "(5103, 5)"
      ]
     },
     "execution_count": 60,
     "metadata": {},
     "output_type": "execute_result"
    }
   ],
   "source": [
    "df.shape"
   ]
  },
  {
   "cell_type": "markdown",
   "id": "a39e1ac0",
   "metadata": {
    "papermill": {
     "duration": 0.015729,
     "end_time": "2024-11-04T02:47:13.962324",
     "exception": false,
     "start_time": "2024-11-04T02:47:13.946595",
     "status": "completed"
    },
    "tags": []
   },
   "source": [
    "## DATA PRE-PROCESSING"
   ]
  },
  {
   "cell_type": "code",
   "execution_count": 61,
   "id": "9af42d7a",
   "metadata": {
    "execution": {
     "iopub.execute_input": "2024-11-04T02:47:14.026959Z",
     "iopub.status.busy": "2024-11-04T02:47:14.026505Z",
     "iopub.status.idle": "2024-11-04T02:47:14.105881Z",
     "shell.execute_reply": "2024-11-04T02:47:14.104578Z"
    },
    "papermill": {
     "duration": 0.09951,
     "end_time": "2024-11-04T02:47:14.108813",
     "exception": false,
     "start_time": "2024-11-04T02:47:14.009303",
     "status": "completed"
    },
    "tags": []
   },
   "outputs": [],
   "source": [
    "def data_cleaning(text):\n",
    "    text = re.sub('[^a-zA-Z]', ' ', text)\n",
    "    text = str.lower(text)\n",
    "    text = text.split()   \n",
    "    text = ' '.join(text) \n",
    "    return text\n",
    "\n",
    "\n",
    "df['Clean Text'] = df['Text'].apply(data_cleaning)"
   ]
  },
  {
   "cell_type": "markdown",
   "id": "1e97b5ec",
   "metadata": {
    "papermill": {
     "duration": 0.015543,
     "end_time": "2024-11-04T02:47:14.140712",
     "exception": false,
     "start_time": "2024-11-04T02:47:14.125169",
     "status": "completed"
    },
    "tags": []
   },
   "source": [
    "### TOKENIZATION"
   ]
  },
  {
   "cell_type": "code",
   "execution_count": 62,
   "id": "2cb9a6b2",
   "metadata": {
    "execution": {
     "iopub.execute_input": "2024-11-04T02:47:14.174610Z",
     "iopub.status.busy": "2024-11-04T02:47:14.174161Z",
     "iopub.status.idle": "2024-11-04T02:47:15.334877Z",
     "shell.execute_reply": "2024-11-04T02:47:15.333554Z"
    },
    "papermill": {
     "duration": 1.180818,
     "end_time": "2024-11-04T02:47:15.337924",
     "exception": false,
     "start_time": "2024-11-04T02:47:14.157106",
     "status": "completed"
    },
    "tags": []
   },
   "outputs": [],
   "source": [
    "df['Tokenized Text'] = df['Clean Text'].apply(lambda document: nltk.word_tokenize(document))"
   ]
  },
  {
   "cell_type": "markdown",
   "id": "cced7cf7",
   "metadata": {
    "papermill": {
     "duration": 0.016999,
     "end_time": "2024-11-04T02:47:15.370679",
     "exception": false,
     "start_time": "2024-11-04T02:47:15.353680",
     "status": "completed"
    },
    "tags": []
   },
   "source": [
    "### REMOVING STOPWARDS"
   ]
  },
  {
   "cell_type": "code",
   "execution_count": 63,
   "id": "d8800b2e",
   "metadata": {
    "execution": {
     "iopub.execute_input": "2024-11-04T02:47:15.404869Z",
     "iopub.status.busy": "2024-11-04T02:47:15.404405Z",
     "iopub.status.idle": "2024-11-04T02:47:16.221641Z",
     "shell.execute_reply": "2024-11-04T02:47:16.220366Z"
    },
    "papermill": {
     "duration": 0.837469,
     "end_time": "2024-11-04T02:47:16.224734",
     "exception": false,
     "start_time": "2024-11-04T02:47:15.387265",
     "status": "completed"
    },
    "tags": []
   },
   "outputs": [],
   "source": [
    "def stopwords_removal(tokens):\n",
    "    stop_words = set(stopwords.words('english'))\n",
    "    filtered_text = [word for word in tokens if word not in stop_words]\n",
    "    return filtered_text\n",
    "\n",
    "df['Filtered Token'] = df['Tokenized Text'].apply(stopwords_removal)"
   ]
  },
  {
   "cell_type": "markdown",
   "id": "c97ceb2b",
   "metadata": {
    "papermill": {
     "duration": 0.015732,
     "end_time": "2024-11-04T02:47:16.256400",
     "exception": false,
     "start_time": "2024-11-04T02:47:16.240668",
     "status": "completed"
    },
    "tags": []
   },
   "source": [
    "### LEMMATIZATION"
   ]
  },
  {
   "cell_type": "code",
   "execution_count": 64,
   "id": "fefdc10f",
   "metadata": {
    "execution": {
     "iopub.execute_input": "2024-11-04T02:47:17.904097Z",
     "iopub.status.busy": "2024-11-04T02:47:17.903213Z",
     "iopub.status.idle": "2024-11-04T02:47:20.745534Z",
     "shell.execute_reply": "2024-11-04T02:47:20.744338Z"
    },
    "papermill": {
     "duration": 2.863451,
     "end_time": "2024-11-04T02:47:20.748562",
     "exception": false,
     "start_time": "2024-11-04T02:47:17.885111",
     "status": "completed"
    },
    "tags": []
   },
   "outputs": [],
   "source": [
    "lemmatizer = WordNetLemmatizer()\n",
    "\n",
    "def lemmatizing(tokens):\n",
    "    lemmas = [lemmatizer.lemmatize(token, pos='v') for token in tokens]\n",
    "    return lemmas\n",
    "\n",
    "\n",
    "df['Lemmatized Tokens'] = df['Filtered Token'].apply(lemmatizing)"
   ]
  },
  {
   "cell_type": "markdown",
   "id": "99653fe7",
   "metadata": {
    "papermill": {
     "duration": 0.017078,
     "end_time": "2024-11-04T02:47:20.782115",
     "exception": false,
     "start_time": "2024-11-04T02:47:20.765037",
     "status": "completed"
    },
    "tags": []
   },
   "source": [
    "### VECTORIZING"
   ]
  },
  {
   "cell_type": "code",
   "execution_count": 65,
   "id": "8d31d76b",
   "metadata": {
    "execution": {
     "iopub.execute_input": "2024-11-04T02:47:20.818279Z",
     "iopub.status.busy": "2024-11-04T02:47:20.816971Z",
     "iopub.status.idle": "2024-11-04T02:47:20.835271Z",
     "shell.execute_reply": "2024-11-04T02:47:20.834298Z"
    },
    "papermill": {
     "duration": 0.039684,
     "end_time": "2024-11-04T02:47:20.838401",
     "exception": false,
     "start_time": "2024-11-04T02:47:20.798717",
     "status": "completed"
    },
    "tags": []
   },
   "outputs": [],
   "source": [
    "corpus = []\n",
    "for tokens in df['Lemmatized Tokens']:\n",
    "    document = ' '.join([word for word in tokens])\n",
    "    corpus.append(document)"
   ]
  },
  {
   "cell_type": "code",
   "execution_count": 66,
   "id": "60bc98cd",
   "metadata": {
    "execution": {
     "iopub.execute_input": "2024-11-04T02:47:20.873409Z",
     "iopub.status.busy": "2024-11-04T02:47:20.872943Z",
     "iopub.status.idle": "2024-11-04T02:47:21.162072Z",
     "shell.execute_reply": "2024-11-04T02:47:21.160946Z"
    },
    "papermill": {
     "duration": 0.310122,
     "end_time": "2024-11-04T02:47:21.164966",
     "exception": false,
     "start_time": "2024-11-04T02:47:20.854844",
     "status": "completed"
    },
    "tags": []
   },
   "outputs": [],
   "source": [
    "tfidf = TfidfVectorizer()\n",
    "X = tfidf.fit_transform(corpus).toarray()"
   ]
  },
  {
   "cell_type": "code",
   "execution_count": 67,
   "id": "aa6b0f57",
   "metadata": {
    "execution": {
     "iopub.execute_input": "2024-11-04T02:47:21.200090Z",
     "iopub.status.busy": "2024-11-04T02:47:21.199056Z",
     "iopub.status.idle": "2024-11-04T02:47:21.207407Z",
     "shell.execute_reply": "2024-11-04T02:47:21.206166Z"
    },
    "papermill": {
     "duration": 0.02854,
     "end_time": "2024-11-04T02:47:21.209970",
     "exception": false,
     "start_time": "2024-11-04T02:47:21.181430",
     "status": "completed"
    },
    "tags": []
   },
   "outputs": [],
   "source": [
    "df['Target'] = df['Target'].map({\"ham\":0, \"spam\":1})\n",
    "y = df['Target']"
   ]
  },
  {
   "cell_type": "markdown",
   "id": "d96fd848",
   "metadata": {
    "papermill": {
     "duration": 0.015959,
     "end_time": "2024-11-04T02:47:21.242280",
     "exception": false,
     "start_time": "2024-11-04T02:47:21.226321",
     "status": "completed"
    },
    "tags": []
   },
   "source": [
    "# MODEL TRAINING"
   ]
  },
  {
   "cell_type": "code",
   "execution_count": 68,
   "id": "64337831",
   "metadata": {
    "execution": {
     "iopub.execute_input": "2024-11-04T02:47:21.277000Z",
     "iopub.status.busy": "2024-11-04T02:47:21.276506Z",
     "iopub.status.idle": "2024-11-04T02:47:21.447142Z",
     "shell.execute_reply": "2024-11-04T02:47:21.445447Z"
    },
    "papermill": {
     "duration": 0.191655,
     "end_time": "2024-11-04T02:47:21.450285",
     "exception": false,
     "start_time": "2024-11-04T02:47:21.258630",
     "status": "completed"
    },
    "tags": []
   },
   "outputs": [],
   "source": [
    "X_train, X_test, y_train, y_test = train_test_split(X, y, test_size=0.2, random_state=42)"
   ]
  },
  {
   "cell_type": "code",
   "execution_count": 73,
   "id": "91c9eb15",
   "metadata": {
    "execution": {
     "iopub.execute_input": "2024-11-04T02:47:21.485999Z",
     "iopub.status.busy": "2024-11-04T02:47:21.485038Z",
     "iopub.status.idle": "2024-11-04T02:47:21.491516Z",
     "shell.execute_reply": "2024-11-04T02:47:21.490266Z"
    },
    "papermill": {
     "duration": 0.027368,
     "end_time": "2024-11-04T02:47:21.494562",
     "exception": false,
     "start_time": "2024-11-04T02:47:21.467194",
     "status": "completed"
    },
    "tags": []
   },
   "outputs": [],
   "source": [
    "classifiers = [LogisticRegression(), MultinomialNB(), RandomForestClassifier() ]\n",
    "clf_dict = { 0: \"Logistic Regression\", \n",
    "             1: \"NaiveBayes\", \n",
    "             2: \"RandomForest\" }"
   ]
  },
  {
   "cell_type": "code",
   "execution_count": 74,
   "id": "595d725e",
   "metadata": {
    "execution": {
     "iopub.execute_input": "2024-11-04T02:47:21.529278Z",
     "iopub.status.busy": "2024-11-04T02:47:21.528761Z",
     "iopub.status.idle": "2024-11-04T02:50:41.118221Z",
     "shell.execute_reply": "2024-11-04T02:50:41.116762Z"
    },
    "papermill": {
     "duration": 199.610187,
     "end_time": "2024-11-04T02:50:41.121133",
     "exception": false,
     "start_time": "2024-11-04T02:47:21.510946",
     "status": "completed"
    },
    "tags": []
   },
   "outputs": [
    {
     "name": "stdout",
     "output_type": "stream",
     "text": [
      "Logistic Regression: 95.98%\n",
      "NaiveBayes: 97.26%\n",
      "RandomForest: 97.55%\n"
     ]
    }
   ],
   "source": [
    "evaluation_results = []\n",
    "\n",
    "for i, model in enumerate(classifiers):\n",
    "    cv_score = cross_val_score(model, X_train, y_train, scoring=\"accuracy\", cv=10)\n",
    "    \n",
    "    model.fit(X_train, y_train)\n",
    "    \n",
    "    y_pred = model.predict(X_test)\n",
    "    \n",
    "    accuracy = accuracy_score(y_test, y_pred)\n",
    "    precision = precision_score(y_test, y_pred, average='weighted')\n",
    "    recall = recall_score(y_test, y_pred, average='weighted')\n",
    "    f1 = f1_score(y_test, y_pred, average='weighted')\n",
    "    \n",
    "    evaluation_results.append({\n",
    "        'Model': clf_dict[i],\n",
    "        'Cross-Validation Accuracy': cv_score.mean(),\n",
    "        'Test Accuracy': accuracy,\n",
    "        'Precision': precision,\n",
    "        'Recall': recall,\n",
    "        'F1 Score': f1\n",
    "    })\n",
    "    \n",
    "    print(f\"{clf_dict[i]}: {round(accuracy*100, 2)}%\")"
   ]
  },
  {
   "cell_type": "markdown",
   "id": "e4cd3d56",
   "metadata": {
    "papermill": {
     "duration": 0.016296,
     "end_time": "2024-11-04T02:50:41.155076",
     "exception": false,
     "start_time": "2024-11-04T02:50:41.138780",
     "status": "completed"
    },
    "tags": []
   },
   "source": [
    "# MODEL EVALUATION"
   ]
  },
  {
   "cell_type": "code",
   "execution_count": 75,
   "id": "1e5eb7c9",
   "metadata": {
    "execution": {
     "iopub.execute_input": "2024-11-04T02:50:41.190255Z",
     "iopub.status.busy": "2024-11-04T02:50:41.189751Z",
     "iopub.status.idle": "2024-11-04T02:50:41.330367Z",
     "shell.execute_reply": "2024-11-04T02:50:41.328981Z"
    },
    "papermill": {
     "duration": 0.161374,
     "end_time": "2024-11-04T02:50:41.333061",
     "exception": false,
     "start_time": "2024-11-04T02:50:41.171687",
     "status": "completed"
    },
    "tags": []
   },
   "outputs": [
    {
     "data": {
      "text/html": [
       "<style type=\"text/css\">\n",
       "#T_63b09_row0_col1, #T_63b09_row0_col2, #T_63b09_row0_col3, #T_63b09_row0_col4, #T_63b09_row0_col5 {\n",
       "  background-color: #f7fcf5;\n",
       "  color: #000000;\n",
       "}\n",
       "#T_63b09_row1_col1 {\n",
       "  background-color: #87cd86;\n",
       "  color: #000000;\n",
       "}\n",
       "#T_63b09_row1_col2, #T_63b09_row1_col4 {\n",
       "  background-color: #117b38;\n",
       "  color: #f1f1f1;\n",
       "}\n",
       "#T_63b09_row1_col3 {\n",
       "  background-color: #0b7734;\n",
       "  color: #f1f1f1;\n",
       "}\n",
       "#T_63b09_row1_col5 {\n",
       "  background-color: #127c39;\n",
       "  color: #f1f1f1;\n",
       "}\n",
       "#T_63b09_row2_col1, #T_63b09_row2_col2, #T_63b09_row2_col3, #T_63b09_row2_col4, #T_63b09_row2_col5 {\n",
       "  background-color: #00441b;\n",
       "  color: #f1f1f1;\n",
       "}\n",
       "</style>\n",
       "<table id=\"T_63b09\">\n",
       "  <thead>\n",
       "    <tr>\n",
       "      <th class=\"blank level0\" >&nbsp;</th>\n",
       "      <th id=\"T_63b09_level0_col0\" class=\"col_heading level0 col0\" >Model</th>\n",
       "      <th id=\"T_63b09_level0_col1\" class=\"col_heading level0 col1\" >Cross-Validation Accuracy</th>\n",
       "      <th id=\"T_63b09_level0_col2\" class=\"col_heading level0 col2\" >Test Accuracy</th>\n",
       "      <th id=\"T_63b09_level0_col3\" class=\"col_heading level0 col3\" >Precision</th>\n",
       "      <th id=\"T_63b09_level0_col4\" class=\"col_heading level0 col4\" >Recall</th>\n",
       "      <th id=\"T_63b09_level0_col5\" class=\"col_heading level0 col5\" >F1 Score</th>\n",
       "    </tr>\n",
       "  </thead>\n",
       "  <tbody>\n",
       "    <tr>\n",
       "      <th id=\"T_63b09_level0_row0\" class=\"row_heading level0 row0\" >0</th>\n",
       "      <td id=\"T_63b09_row0_col0\" class=\"data row0 col0\" >Logistic Regression</td>\n",
       "      <td id=\"T_63b09_row0_col1\" class=\"data row0 col1\" >95.247255</td>\n",
       "      <td id=\"T_63b09_row0_col2\" class=\"data row0 col2\" >95.984329</td>\n",
       "      <td id=\"T_63b09_row0_col3\" class=\"data row0 col3\" >96.002512</td>\n",
       "      <td id=\"T_63b09_row0_col4\" class=\"data row0 col4\" >95.984329</td>\n",
       "      <td id=\"T_63b09_row0_col5\" class=\"data row0 col5\" >95.679783</td>\n",
       "    </tr>\n",
       "    <tr>\n",
       "      <th id=\"T_63b09_level0_row1\" class=\"row_heading level0 row1\" >1</th>\n",
       "      <td id=\"T_63b09_row1_col0\" class=\"data row1 col0\" >NaiveBayes</td>\n",
       "      <td id=\"T_63b09_row1_col1\" class=\"data row1 col1\" >96.104859</td>\n",
       "      <td id=\"T_63b09_row1_col2\" class=\"data row1 col2\" >97.257591</td>\n",
       "      <td id=\"T_63b09_row1_col3\" class=\"data row1 col3\" >97.304671</td>\n",
       "      <td id=\"T_63b09_row1_col4\" class=\"data row1 col4\" >97.257591</td>\n",
       "      <td id=\"T_63b09_row1_col5\" class=\"data row1 col5\" >97.110499</td>\n",
       "    </tr>\n",
       "    <tr>\n",
       "      <th id=\"T_63b09_level0_row2\" class=\"row_heading level0 row2\" >2</th>\n",
       "      <td id=\"T_63b09_row2_col0\" class=\"data row2 col0\" >RandomForest</td>\n",
       "      <td id=\"T_63b09_row2_col1\" class=\"data row2 col1\" >97.157881</td>\n",
       "      <td id=\"T_63b09_row2_col2\" class=\"data row2 col2\" >97.551420</td>\n",
       "      <td id=\"T_63b09_row2_col3\" class=\"data row2 col3\" >97.561177</td>\n",
       "      <td id=\"T_63b09_row2_col4\" class=\"data row2 col4\" >97.551420</td>\n",
       "      <td id=\"T_63b09_row2_col5\" class=\"data row2 col5\" >97.448126</td>\n",
       "    </tr>\n",
       "  </tbody>\n",
       "</table>\n"
      ],
      "text/plain": [
       "<pandas.io.formats.style.Styler at 0x1359dfef250>"
      ]
     },
     "execution_count": 75,
     "metadata": {},
     "output_type": "execute_result"
    }
   ],
   "source": [
    "evaluation_df = pd.DataFrame(evaluation_results)\n",
    "metric_category = ['Cross-Validation Accuracy', 'Test Accuracy', 'Precision','Recall', 'F1 Score']\n",
    "evaluation_df[metric_category] = round(evaluation_df[metric_category]*100, 6)\n",
    "\n",
    "\n",
    "evaluation_df.style.background_gradient(cmap='Greens')"
   ]
  },
  {
   "cell_type": "code",
   "execution_count": 76,
   "id": "bc77e8d4",
   "metadata": {
    "execution": {
     "iopub.execute_input": "2024-11-04T02:50:41.370117Z",
     "iopub.status.busy": "2024-11-04T02:50:41.368953Z",
     "iopub.status.idle": "2024-11-04T02:50:41.915538Z",
     "shell.execute_reply": "2024-11-04T02:50:41.914107Z"
    },
    "papermill": {
     "duration": 0.568503,
     "end_time": "2024-11-04T02:50:41.918851",
     "exception": false,
     "start_time": "2024-11-04T02:50:41.350348",
     "status": "completed"
    },
    "tags": []
   },
   "outputs": [
    {
     "data": {
      "image/png": "[encoded data removed]",
      "text/plain": [
       "<Figure size 1500x500 with 1 Axes>"
      ]
     },
     "metadata": {},
     "output_type": "display_data"
    }
   ],
   "source": [
    "plt.figure(figsize=(15, 5))\n",
    "\n",
    "for i, metric in enumerate(evaluation_df.columns[1:]):\n",
    "    plt.plot(evaluation_df['Model'], evaluation_df[metric], marker='o', linestyle='-', linewidth=2,  markersize=8, label=metric)\n",
    "\n",
    "plt.title('Performance of Different Models', fontsize=18, fontweight='bold')\n",
    "plt.xlabel('Model', fontsize=14)\n",
    "plt.ylabel('Score', fontsize=14)\n",
    "plt.xticks(fontsize=12)\n",
    "plt.yticks(fontsize=12)\n",
    "\n",
    "plt.grid(True, linestyle='--', alpha=1)\n",
    "plt.legend(title='Metric', title_fontsize='15', fontsize='14', loc='best', frameon=True, shadow=True)\n",
    "plt.tight_layout()  \n",
    "plt.show()\n"
   ]
  },
  {
   "cell_type": "markdown",
   "id": "56a8123f",
   "metadata": {
    "papermill": {
     "duration": 0.01904,
     "end_time": "2024-11-04T02:50:41.957811",
     "exception": false,
     "start_time": "2024-11-04T02:50:41.938771",
     "status": "completed"
    },
    "tags": []
   },
   "source": [
    "# THANK YOU! 😊"
   ]
  }
 ],
 "metadata": {
  "kaggle": {
   "accelerator": "none",
   "dataSources": [
    {
     "datasetId": 483,
     "sourceId": 982,
     "sourceType": "datasetVersion"
    }
   ],
   "dockerImageVersionId": 30761,
   "isGpuEnabled": false,
   "isInternetEnabled": true,
   "language": "python",
   "sourceType": "notebook"
  },
  "kernelspec": {
   "display_name": "Python 3 (ipykernel)",
   "language": "python",
   "name": "python3"
  },
  "language_info": {
   "codemirror_mode": {
    "name": "ipython",
    "version": 3
   },
   "file_extension": ".py",
   "mimetype": "text/x-python",
   "name": "python",
   "nbconvert_exporter": "python",
   "pygments_lexer": "ipython3",
   "version": "3.11.5"
  },
  "papermill": {
   "default_parameters": {},
   "duration": 220.871693,
   "end_time": "2024-11-04T02:50:43.202470",
   "environment_variables": {},
   "exception": null,
   "input_path": "__notebook__.ipynb",
   "output_path": "__notebook__.ipynb",
   "parameters": {},
   "start_time": "2024-11-04T02:47:02.330777",
   "version": "2.6.0"
  }
 },
 "nbformat": 4,
 "nbformat_minor": 5
}
